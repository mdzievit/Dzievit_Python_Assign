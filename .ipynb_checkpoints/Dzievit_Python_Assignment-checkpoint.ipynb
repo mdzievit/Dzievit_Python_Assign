{
 "cells": [
  {
   "cell_type": "markdown",
   "metadata": {},
   "source": [
    "## Matt Dzievit\n",
    "## Python Assignment\n",
    "## EEOB 546X\n",
    "## Spring 2017"
   ]
  },
  {
   "cell_type": "code",
   "execution_count": 1,
   "metadata": {
    "collapsed": false
   },
   "outputs": [],
   "source": [
    "from Bio import SeqIO\n",
    "from Bio.Data import CodonTable\n",
    "from Bio.Seq import Seq\n",
    "from Bio.Alphabet import generic_dna\n",
    "import pandas as pd\n",
    "import seaborn as sns"
   ]
  },
  {
   "cell_type": "markdown",
   "metadata": {},
   "source": [
    "### Question 1"
   ]
  },
  {
   "cell_type": "code",
   "execution_count": 7,
   "metadata": {
    "collapsed": true
   },
   "outputs": [],
   "source": [
    "def get_sequences_from_file(fasta_fn):\n",
    "    \"\"\"\n",
    "    Inputs a fasta file, splits the description, creates a dictionary for species:dna sequence\n",
    "    \n",
    "    fasta_fn -- fasta file to create dictionary from\n",
    "    \n",
    "    \"\"\"\n",
    "    sequence_data_dict = {} #Creates an empty dictionary\n",
    "    #Following is going to input a flename with a certain file type, fasta,\n",
    "    for record in SeqIO.parse(fasta_fn, \"fasta\"):\n",
    "        #For each record description, depicted by the > symbol for fasta it will split the line by each space (default)\n",
    "        #This creates a vector with different descriptors\n",
    "        description = record.description.split()\n",
    "        #Creating the species_name by joining the first 2 descriptors\n",
    "        species_name = description[1] + \" \" + description[2]\n",
    "        #Filling in the disctionary: Species name: corresponding sequence\n",
    "        sequence_data_dict[species_name] = record.seq\n",
    "    return(sequence_data_dict)"
   ]
  },
  {
   "cell_type": "code",
   "execution_count": 8,
   "metadata": {
    "collapsed": false
   },
   "outputs": [
    {
     "data": {
      "text/plain": [
       "Seq('ATGATCAACATCCGAAAAACTCATCCATTAGTTAAAATTATCAACAACTCATTC...AGA', SingleLetterAlphabet())"
      ]
     },
     "execution_count": 8,
     "metadata": {},
     "output_type": "execute_result"
    }
   ],
   "source": [
    "#Testing the dictionary and pulling out the first species\n",
    "data = get_sequences_from_file(\"bears_cytb.fasta\")\n",
    "data[\"Ailuropoda melanoleuca\"]"
   ]
  },
  {
   "cell_type": "markdown",
   "metadata": {},
   "source": [
    "### Question 2"
   ]
  },
  {
   "cell_type": "code",
   "execution_count": 9,
   "metadata": {
    "collapsed": false
   },
   "outputs": [],
   "source": [
    "def translate_function(dnaSeq): \n",
    "    \"\"\"\n",
    "    Creates a Mitochrondrial codon table and then translates input DNA sequence into amino acids and returns the amino acids\n",
    "    dnaSeq -- string of DNA sequence\n",
    "    \"\"\"\n",
    "    aa_seq = \"\"\n",
    "    # Creates the codon table for mitochrondrial DNA\n",
    "    mitoTable = CodonTable.unambiguous_dna_by_name[\"Vertebrate Mitochondrial\"]\n",
    "    \n",
    "    #For loop to pull every 3 nucleotides and add corresponding amino acid to new variable, aa_seq_string\n",
    "    for index in range(0,(len(dnaSeq)-2),3):\n",
    "        seq = dnaSeq[index:index+3]\n",
    "        # This checks if it is an stop codon it does nothing\n",
    "        if seq in mitoTable.stop_codons:\n",
    "            pass\n",
    "        else:\n",
    "            #Appends the ammino acid to the array\n",
    "            aa_seq = aa_seq + mitoTable.forward_table[seq]\n",
    "    return(aa_seq)"
   ]
  },
  {
   "cell_type": "code",
   "execution_count": 10,
   "metadata": {
    "collapsed": false
   },
   "outputs": [
    {
     "data": {
      "text/plain": [
       "'MINIRKTHPLVKIINNSFIDLPTPSNISTWWNFGSLLGVCLILQILTGLFLAMHYTSDTATAFSSVAHICRDVNYGWFIRYMHANGASMFFICLFMHVGRGLYYGSYLFPETWNIGIILLLTIMATAFMGYVLPWGQMSFWGATVITNLLSAIPYIGTNLVEWIWGGFSVDKATLTRFFAFHFILPFIISALAMVHLLFLHETGSNNPSGIPSDPDKIPFYPYHTIKDILGVLFLVLALMTLALFSPDLLGDPDNYTPANPLSTPPHIKPEWYFLFAYAILRSIPNKLGGVLALIFSILILTIIPLLHTSKQRSMMFRPLSQCLFWLLVADLLTLTWIGGQPVEHPFIIIGQLASILYFTILLVLMPITSIIENSLSKW'"
      ]
     },
     "execution_count": 10,
     "metadata": {},
     "output_type": "execute_result"
    }
   ],
   "source": [
    "# Testing the function and seeing what the final product looks like\n",
    "aaSeq = translate_function(str(data[\"Ailuropoda melanoleuca\"]))\n",
    "aaSeq"
   ]
  },
  {
   "cell_type": "markdown",
   "metadata": {},
   "source": [
    "### Question 3\n",
    "I went to google to find some help.\n",
    "[Bio.seq](http://biopython.org/wiki/Seq) helped me understand and define a Seq that can be manipulated and\n",
    "the new packages I would need to import.\n",
    "Additionally, [Bio.seq source](http://biopython.org/DIST/docs/api/Bio.Seq.Seq-class.html) told me about the different tables I could use to translate my sequence. I had to find this because the default translate was adding extra stop codons, which did not match the length of the function from Question 2."
   ]
  },
  {
   "cell_type": "code",
   "execution_count": 11,
   "metadata": {
    "collapsed": false
   },
   "outputs": [
    {
     "data": {
      "text/plain": [
       "True"
      ]
     },
     "execution_count": 11,
     "metadata": {},
     "output_type": "execute_result"
    }
   ],
   "source": [
    "new_aaSeq = Seq(str(data[\"Ailuropoda melanoleuca\"]))\n",
    "\n",
    "#This is going to test whether our new code equals the old one, which it does:\n",
    "str(new_aaSeq.translate(table=2,to_stop=True)) == aaSeq"
   ]
  },
  {
   "cell_type": "code",
   "execution_count": 12,
   "metadata": {
    "collapsed": false
   },
   "outputs": [],
   "source": [
    "#Creating the new function\n",
    "def translate_function2 (dna):\n",
    "    \"\"\"\n",
    "    Creates a Seq then translates it into amino acids and returns the amino acids\n",
    "    dna -- string of DNA sequence\n",
    "    \"\"\"\n",
    "    dnaSeq = Seq(dna)\n",
    "    aaSeq = dnaSeq.translate(table = 2, to_stop = True)\n",
    "    return(aaSeq)"
   ]
  },
  {
   "cell_type": "code",
   "execution_count": 13,
   "metadata": {
    "collapsed": false
   },
   "outputs": [
    {
     "data": {
      "text/plain": [
       "True"
      ]
     },
     "execution_count": 13,
     "metadata": {},
     "output_type": "execute_result"
    }
   ],
   "source": [
    "#Test the function\n",
    "new_aaSeq = translate_function2(str(data[\"Ailuropoda melanoleuca\"]))\n",
    "\n",
    "#Make sure it still equals the old one (which it does)\n",
    "str(new_aaSeq) == aaSeq"
   ]
  },
  {
   "cell_type": "markdown",
   "metadata": {},
   "source": [
    "### Question 4"
   ]
  },
  {
   "cell_type": "code",
   "execution_count": 14,
   "metadata": {
    "collapsed": false
   },
   "outputs": [],
   "source": [
    "def get_proportion_aa(aa_seq):\n",
    "    \"\"\"\n",
    "    Calculates proportion of amino acids that are polar, hydrophobic, and charged, returns those proportions\n",
    "    aa_seq -- amino acid string that is used to calculate the proportions\n",
    "    \"\"\"\n",
    "    polar = ['Q','N','H','S','T','Y','C','M','W']\n",
    "    hydrophobic = ['A','I','L','F','V','P','G']\n",
    "    charged = ['R','K','D','E']\n",
    "    \n",
    "    chargedCount = 0\n",
    "    polarCount = 0\n",
    "    hydrophobicCount = 0;\n",
    "    for aa in aa_seq:\n",
    "        if (aa in polar):\n",
    "            polarCount = polarCount + 1\n",
    "        elif (aa in hydrophobic):\n",
    "            hydrophobicCount = hydrophobicCount + 1\n",
    "        elif (aa in charged):\n",
    "            chargedCount = chargedCount + 1\n",
    "    \n",
    "    total = len(aa_seq)\n",
    "    polarCountProp = polarCount/total\n",
    "    hydrophobicCountProp = hydrophobicCount/total\n",
    "    chargedProp = chargedCount/total\n",
    "    \n",
    "    return chargedProp,polarCountProp, hydrophobicCountProp"
   ]
  },
  {
   "cell_type": "code",
   "execution_count": 15,
   "metadata": {
    "collapsed": false
   },
   "outputs": [
    {
     "data": {
      "text/plain": [
       "(0.08970976253298153, 0.34300791556728233, 0.5672823218997362)"
      ]
     },
     "execution_count": 15,
     "metadata": {},
     "output_type": "execute_result"
    }
   ],
   "source": [
    "#Testing the function to make sure it is working correctly\n",
    "test = get_proportion_aa(translate_function2(str(data[\"Ailuropoda melanoleuca\"])))\n",
    "test"
   ]
  },
  {
   "cell_type": "markdown",
   "metadata": {},
   "source": [
    "### Main Section\n",
    "Importing data"
   ]
  },
  {
   "cell_type": "code",
   "execution_count": 54,
   "metadata": {
    "collapsed": false
   },
   "outputs": [],
   "source": [
    "cytb_seqs = get_sequences_from_file(\"bears_cytb.fasta\") \n",
    "\n",
    "bear_df = pd.read_csv(\"bears_data.csv\") # Includes only data for body mass currently and empty cells for other columns\n",
    "species_list = list(bear_df.species)"
   ]
  },
  {
   "cell_type": "markdown",
   "metadata": {},
   "source": [
    "### Question 5"
   ]
  },
  {
   "cell_type": "code",
   "execution_count": 55,
   "metadata": {
    "collapsed": false
   },
   "outputs": [
    {
     "data": {
      "text/plain": [
       "array(['species', 'mass', 'charged', 'polar', 'hydrophobic'], dtype=object)"
      ]
     },
     "execution_count": 55,
     "metadata": {},
     "output_type": "execute_result"
    }
   ],
   "source": [
    "bear_df.columns.values"
   ]
  },
  {
   "cell_type": "code",
   "execution_count": 56,
   "metadata": {
    "collapsed": false
   },
   "outputs": [
    {
     "data": {
      "text/html": [
       "<div>\n",
       "<table border=\"1\" class=\"dataframe\">\n",
       "  <thead>\n",
       "    <tr style=\"text-align: right;\">\n",
       "      <th></th>\n",
       "      <th>species</th>\n",
       "      <th>mass</th>\n",
       "      <th>charged</th>\n",
       "      <th>polar</th>\n",
       "      <th>hydrophobic</th>\n",
       "    </tr>\n",
       "  </thead>\n",
       "  <tbody>\n",
       "    <tr>\n",
       "      <th>0</th>\n",
       "      <td>Ursus spelaeus</td>\n",
       "      <td>550.800</td>\n",
       "      <td>NaN</td>\n",
       "      <td>NaN</td>\n",
       "      <td>NaN</td>\n",
       "    </tr>\n",
       "    <tr>\n",
       "      <th>1</th>\n",
       "      <td>Ursus arctos</td>\n",
       "      <td>203.500</td>\n",
       "      <td>NaN</td>\n",
       "      <td>NaN</td>\n",
       "      <td>NaN</td>\n",
       "    </tr>\n",
       "    <tr>\n",
       "      <th>2</th>\n",
       "      <td>Ursus thibetanus</td>\n",
       "      <td>99.714</td>\n",
       "      <td>NaN</td>\n",
       "      <td>NaN</td>\n",
       "      <td>NaN</td>\n",
       "    </tr>\n",
       "    <tr>\n",
       "      <th>3</th>\n",
       "      <td>Melursus ursinus</td>\n",
       "      <td>100.030</td>\n",
       "      <td>NaN</td>\n",
       "      <td>NaN</td>\n",
       "      <td>NaN</td>\n",
       "    </tr>\n",
       "    <tr>\n",
       "      <th>4</th>\n",
       "      <td>Ursus americanus</td>\n",
       "      <td>110.560</td>\n",
       "      <td>NaN</td>\n",
       "      <td>NaN</td>\n",
       "      <td>NaN</td>\n",
       "    </tr>\n",
       "    <tr>\n",
       "      <th>5</th>\n",
       "      <td>Helarctos malayanus</td>\n",
       "      <td>47.020</td>\n",
       "      <td>NaN</td>\n",
       "      <td>NaN</td>\n",
       "      <td>NaN</td>\n",
       "    </tr>\n",
       "    <tr>\n",
       "      <th>6</th>\n",
       "      <td>Ailuropoda melanoleuca</td>\n",
       "      <td>118.200</td>\n",
       "      <td>NaN</td>\n",
       "      <td>NaN</td>\n",
       "      <td>NaN</td>\n",
       "    </tr>\n",
       "    <tr>\n",
       "      <th>7</th>\n",
       "      <td>Tremarctos ornatus</td>\n",
       "      <td>140.700</td>\n",
       "      <td>NaN</td>\n",
       "      <td>NaN</td>\n",
       "      <td>NaN</td>\n",
       "    </tr>\n",
       "    <tr>\n",
       "      <th>8</th>\n",
       "      <td>Ursus maritimus</td>\n",
       "      <td>425.100</td>\n",
       "      <td>NaN</td>\n",
       "      <td>NaN</td>\n",
       "      <td>NaN</td>\n",
       "    </tr>\n",
       "  </tbody>\n",
       "</table>\n",
       "</div>"
      ],
      "text/plain": [
       "                  species     mass  charged  polar  hydrophobic\n",
       "0          Ursus spelaeus  550.800      NaN    NaN          NaN\n",
       "1            Ursus arctos  203.500      NaN    NaN          NaN\n",
       "2        Ursus thibetanus   99.714      NaN    NaN          NaN\n",
       "3        Melursus ursinus  100.030      NaN    NaN          NaN\n",
       "4        Ursus americanus  110.560      NaN    NaN          NaN\n",
       "5     Helarctos malayanus   47.020      NaN    NaN          NaN\n",
       "6  Ailuropoda melanoleuca  118.200      NaN    NaN          NaN\n",
       "7      Tremarctos ornatus  140.700      NaN    NaN          NaN\n",
       "8         Ursus maritimus  425.100      NaN    NaN          NaN"
      ]
     },
     "execution_count": 56,
     "metadata": {},
     "output_type": "execute_result"
    }
   ],
   "source": [
    "#Makes a copy of the df\n",
    "bear_df_copy = bear_df.copy()\n",
    "\n",
    "#Puts the species into their own variable\n",
    "species = bear_df['species']\n",
    "\n",
    "#Puts the AA types into their own variable\n",
    "categ = bear_df.columns.values[2:5]\n",
    "\n",
    "#Makes sure that the copy was successful (it was)\n",
    "bear_df_copy"
   ]
  },
  {
   "cell_type": "code",
   "execution_count": 57,
   "metadata": {
    "collapsed": false
   },
   "outputs": [
    {
     "data": {
      "text/html": [
       "<div>\n",
       "<table border=\"1\" class=\"dataframe\">\n",
       "  <thead>\n",
       "    <tr style=\"text-align: right;\">\n",
       "      <th></th>\n",
       "      <th>species</th>\n",
       "      <th>mass</th>\n",
       "      <th>charged</th>\n",
       "      <th>polar</th>\n",
       "      <th>hydrophobic</th>\n",
       "    </tr>\n",
       "  </thead>\n",
       "  <tbody>\n",
       "    <tr>\n",
       "      <th>0</th>\n",
       "      <td>Ursus spelaeus</td>\n",
       "      <td>550.800</td>\n",
       "      <td>0.092348</td>\n",
       "      <td>0.329815</td>\n",
       "      <td>0.577836</td>\n",
       "    </tr>\n",
       "    <tr>\n",
       "      <th>1</th>\n",
       "      <td>Ursus arctos</td>\n",
       "      <td>203.500</td>\n",
       "      <td>0.092348</td>\n",
       "      <td>0.324538</td>\n",
       "      <td>0.583113</td>\n",
       "    </tr>\n",
       "    <tr>\n",
       "      <th>2</th>\n",
       "      <td>Ursus thibetanus</td>\n",
       "      <td>99.714</td>\n",
       "      <td>0.092348</td>\n",
       "      <td>0.327177</td>\n",
       "      <td>0.580475</td>\n",
       "    </tr>\n",
       "    <tr>\n",
       "      <th>3</th>\n",
       "      <td>Melursus ursinus</td>\n",
       "      <td>100.030</td>\n",
       "      <td>0.089710</td>\n",
       "      <td>0.340369</td>\n",
       "      <td>0.569921</td>\n",
       "    </tr>\n",
       "    <tr>\n",
       "      <th>4</th>\n",
       "      <td>Ursus americanus</td>\n",
       "      <td>110.560</td>\n",
       "      <td>0.089710</td>\n",
       "      <td>0.337731</td>\n",
       "      <td>0.572559</td>\n",
       "    </tr>\n",
       "    <tr>\n",
       "      <th>5</th>\n",
       "      <td>Helarctos malayanus</td>\n",
       "      <td>47.020</td>\n",
       "      <td>0.092348</td>\n",
       "      <td>0.340369</td>\n",
       "      <td>0.567282</td>\n",
       "    </tr>\n",
       "    <tr>\n",
       "      <th>6</th>\n",
       "      <td>Ailuropoda melanoleuca</td>\n",
       "      <td>118.200</td>\n",
       "      <td>0.089710</td>\n",
       "      <td>0.343008</td>\n",
       "      <td>0.567282</td>\n",
       "    </tr>\n",
       "    <tr>\n",
       "      <th>7</th>\n",
       "      <td>Tremarctos ornatus</td>\n",
       "      <td>140.700</td>\n",
       "      <td>0.089710</td>\n",
       "      <td>0.335092</td>\n",
       "      <td>0.575198</td>\n",
       "    </tr>\n",
       "    <tr>\n",
       "      <th>8</th>\n",
       "      <td>Ursus maritimus</td>\n",
       "      <td>425.100</td>\n",
       "      <td>0.092348</td>\n",
       "      <td>0.327177</td>\n",
       "      <td>0.580475</td>\n",
       "    </tr>\n",
       "  </tbody>\n",
       "</table>\n",
       "</div>"
      ],
      "text/plain": [
       "                  species     mass   charged     polar  hydrophobic\n",
       "0          Ursus spelaeus  550.800  0.092348  0.329815     0.577836\n",
       "1            Ursus arctos  203.500  0.092348  0.324538     0.583113\n",
       "2        Ursus thibetanus   99.714  0.092348  0.327177     0.580475\n",
       "3        Melursus ursinus  100.030  0.089710  0.340369     0.569921\n",
       "4        Ursus americanus  110.560  0.089710  0.337731     0.572559\n",
       "5     Helarctos malayanus   47.020  0.092348  0.340369     0.567282\n",
       "6  Ailuropoda melanoleuca  118.200  0.089710  0.343008     0.567282\n",
       "7      Tremarctos ornatus  140.700  0.089710  0.335092     0.575198\n",
       "8         Ursus maritimus  425.100  0.092348  0.327177     0.580475"
      ]
     },
     "execution_count": 57,
     "metadata": {},
     "output_type": "execute_result"
    }
   ],
   "source": [
    "# Nested for loop.\n",
    "# First for loop obtains the proportions for the charges for each individual. The return value matches the order of the columns\n",
    "for ind in range(0,len(species)):\n",
    "    aaProp = get_proportion_aa(translate_function2(str(cytb_seqs[species[ind]])))\n",
    "    #Second for loop sets the values of the calculated proportions\n",
    "    for type in range(0,len(categ)):\n",
    "        bear_df_copy.set_value(ind,categ[type],aaProp[type])\n",
    "\n",
    "#Checks the df to make sure the data was entered properly\n",
    "bear_df_copy"
   ]
  },
  {
   "cell_type": "code",
   "execution_count": 58,
   "metadata": {
    "collapsed": false
   },
   "outputs": [],
   "source": [
    "#Entered code from assignment\n",
    "%matplotlib inline"
   ]
  },
  {
   "cell_type": "markdown",
   "metadata": {},
   "source": [
    "### Question 6"
   ]
  },
  {
   "cell_type": "code",
   "execution_count": 63,
   "metadata": {
    "collapsed": false
   },
   "outputs": [
    {
     "data": {
      "image/png": "[encoded data removed]",
      "text/plain": [
       "<matplotlib.figure.Figure at 0xc6c00f0>"
      ]
     },
     "metadata": {},
     "output_type": "display_data"
    }
   ],
   "source": [
    "#Setup for plotting the first figure and created a reversed barchart so it is easier to visualize\n",
    "sns.set_style(\"whitegrid\")\n",
    "fig1 = sns.barplot(x=\"mass\",y=\"species\",data=bear_df_copy)"
   ]
  },
  {
   "cell_type": "markdown",
   "metadata": {
    "collapsed": true
   },
   "source": [
    "It appears that ursus spelaeus is the largest species. Also, according to Wikipedia, this is an extinct species, which has been for 24,000 years."
   ]
  },
  {
   "cell_type": "markdown",
   "metadata": {
    "collapsed": true
   },
   "source": [
    "### Question 7\n",
    "Decided that it would be easy to melt the data and then use that to create a grouped barchart"
   ]
  },
  {
   "cell_type": "code",
   "execution_count": 66,
   "metadata": {
    "collapsed": false
   },
   "outputs": [
    {
     "data": {
      "text/html": [
       "<div>\n",
       "<table border=\"1\" class=\"dataframe\">\n",
       "  <thead>\n",
       "    <tr style=\"text-align: right;\">\n",
       "      <th></th>\n",
       "      <th>species</th>\n",
       "      <th>variable</th>\n",
       "      <th>value</th>\n",
       "    </tr>\n",
       "  </thead>\n",
       "  <tbody>\n",
       "    <tr>\n",
       "      <th>0</th>\n",
       "      <td>Ursus spelaeus</td>\n",
       "      <td>charged</td>\n",
       "      <td>0.092348</td>\n",
       "    </tr>\n",
       "    <tr>\n",
       "      <th>1</th>\n",
       "      <td>Ursus arctos</td>\n",
       "      <td>charged</td>\n",
       "      <td>0.092348</td>\n",
       "    </tr>\n",
       "    <tr>\n",
       "      <th>2</th>\n",
       "      <td>Ursus thibetanus</td>\n",
       "      <td>charged</td>\n",
       "      <td>0.092348</td>\n",
       "    </tr>\n",
       "    <tr>\n",
       "      <th>3</th>\n",
       "      <td>Melursus ursinus</td>\n",
       "      <td>charged</td>\n",
       "      <td>0.089710</td>\n",
       "    </tr>\n",
       "    <tr>\n",
       "      <th>4</th>\n",
       "      <td>Ursus americanus</td>\n",
       "      <td>charged</td>\n",
       "      <td>0.089710</td>\n",
       "    </tr>\n",
       "    <tr>\n",
       "      <th>5</th>\n",
       "      <td>Helarctos malayanus</td>\n",
       "      <td>charged</td>\n",
       "      <td>0.092348</td>\n",
       "    </tr>\n",
       "    <tr>\n",
       "      <th>6</th>\n",
       "      <td>Ailuropoda melanoleuca</td>\n",
       "      <td>charged</td>\n",
       "      <td>0.089710</td>\n",
       "    </tr>\n",
       "    <tr>\n",
       "      <th>7</th>\n",
       "      <td>Tremarctos ornatus</td>\n",
       "      <td>charged</td>\n",
       "      <td>0.089710</td>\n",
       "    </tr>\n",
       "    <tr>\n",
       "      <th>8</th>\n",
       "      <td>Ursus maritimus</td>\n",
       "      <td>charged</td>\n",
       "      <td>0.092348</td>\n",
       "    </tr>\n",
       "    <tr>\n",
       "      <th>9</th>\n",
       "      <td>Ursus spelaeus</td>\n",
       "      <td>polar</td>\n",
       "      <td>0.329815</td>\n",
       "    </tr>\n",
       "    <tr>\n",
       "      <th>10</th>\n",
       "      <td>Ursus arctos</td>\n",
       "      <td>polar</td>\n",
       "      <td>0.324538</td>\n",
       "    </tr>\n",
       "    <tr>\n",
       "      <th>11</th>\n",
       "      <td>Ursus thibetanus</td>\n",
       "      <td>polar</td>\n",
       "      <td>0.327177</td>\n",
       "    </tr>\n",
       "    <tr>\n",
       "      <th>12</th>\n",
       "      <td>Melursus ursinus</td>\n",
       "      <td>polar</td>\n",
       "      <td>0.340369</td>\n",
       "    </tr>\n",
       "    <tr>\n",
       "      <th>13</th>\n",
       "      <td>Ursus americanus</td>\n",
       "      <td>polar</td>\n",
       "      <td>0.337731</td>\n",
       "    </tr>\n",
       "    <tr>\n",
       "      <th>14</th>\n",
       "      <td>Helarctos malayanus</td>\n",
       "      <td>polar</td>\n",
       "      <td>0.340369</td>\n",
       "    </tr>\n",
       "    <tr>\n",
       "      <th>15</th>\n",
       "      <td>Ailuropoda melanoleuca</td>\n",
       "      <td>polar</td>\n",
       "      <td>0.343008</td>\n",
       "    </tr>\n",
       "    <tr>\n",
       "      <th>16</th>\n",
       "      <td>Tremarctos ornatus</td>\n",
       "      <td>polar</td>\n",
       "      <td>0.335092</td>\n",
       "    </tr>\n",
       "    <tr>\n",
       "      <th>17</th>\n",
       "      <td>Ursus maritimus</td>\n",
       "      <td>polar</td>\n",
       "      <td>0.327177</td>\n",
       "    </tr>\n",
       "    <tr>\n",
       "      <th>18</th>\n",
       "      <td>Ursus spelaeus</td>\n",
       "      <td>hydrophobic</td>\n",
       "      <td>0.577836</td>\n",
       "    </tr>\n",
       "    <tr>\n",
       "      <th>19</th>\n",
       "      <td>Ursus arctos</td>\n",
       "      <td>hydrophobic</td>\n",
       "      <td>0.583113</td>\n",
       "    </tr>\n",
       "    <tr>\n",
       "      <th>20</th>\n",
       "      <td>Ursus thibetanus</td>\n",
       "      <td>hydrophobic</td>\n",
       "      <td>0.580475</td>\n",
       "    </tr>\n",
       "    <tr>\n",
       "      <th>21</th>\n",
       "      <td>Melursus ursinus</td>\n",
       "      <td>hydrophobic</td>\n",
       "      <td>0.569921</td>\n",
       "    </tr>\n",
       "    <tr>\n",
       "      <th>22</th>\n",
       "      <td>Ursus americanus</td>\n",
       "      <td>hydrophobic</td>\n",
       "      <td>0.572559</td>\n",
       "    </tr>\n",
       "    <tr>\n",
       "      <th>23</th>\n",
       "      <td>Helarctos malayanus</td>\n",
       "      <td>hydrophobic</td>\n",
       "      <td>0.567282</td>\n",
       "    </tr>\n",
       "    <tr>\n",
       "      <th>24</th>\n",
       "      <td>Ailuropoda melanoleuca</td>\n",
       "      <td>hydrophobic</td>\n",
       "      <td>0.567282</td>\n",
       "    </tr>\n",
       "    <tr>\n",
       "      <th>25</th>\n",
       "      <td>Tremarctos ornatus</td>\n",
       "      <td>hydrophobic</td>\n",
       "      <td>0.575198</td>\n",
       "    </tr>\n",
       "    <tr>\n",
       "      <th>26</th>\n",
       "      <td>Ursus maritimus</td>\n",
       "      <td>hydrophobic</td>\n",
       "      <td>0.580475</td>\n",
       "    </tr>\n",
       "  </tbody>\n",
       "</table>\n",
       "</div>"
      ],
      "text/plain": [
       "                   species     variable     value\n",
       "0           Ursus spelaeus      charged  0.092348\n",
       "1             Ursus arctos      charged  0.092348\n",
       "2         Ursus thibetanus      charged  0.092348\n",
       "3         Melursus ursinus      charged  0.089710\n",
       "4         Ursus americanus      charged  0.089710\n",
       "5      Helarctos malayanus      charged  0.092348\n",
       "6   Ailuropoda melanoleuca      charged  0.089710\n",
       "7       Tremarctos ornatus      charged  0.089710\n",
       "8          Ursus maritimus      charged  0.092348\n",
       "9           Ursus spelaeus        polar  0.329815\n",
       "10            Ursus arctos        polar  0.324538\n",
       "11        Ursus thibetanus        polar  0.327177\n",
       "12        Melursus ursinus        polar  0.340369\n",
       "13        Ursus americanus        polar  0.337731\n",
       "14     Helarctos malayanus        polar  0.340369\n",
       "15  Ailuropoda melanoleuca        polar  0.343008\n",
       "16      Tremarctos ornatus        polar  0.335092\n",
       "17         Ursus maritimus        polar  0.327177\n",
       "18          Ursus spelaeus  hydrophobic  0.577836\n",
       "19            Ursus arctos  hydrophobic  0.583113\n",
       "20        Ursus thibetanus  hydrophobic  0.580475\n",
       "21        Melursus ursinus  hydrophobic  0.569921\n",
       "22        Ursus americanus  hydrophobic  0.572559\n",
       "23     Helarctos malayanus  hydrophobic  0.567282\n",
       "24  Ailuropoda melanoleuca  hydrophobic  0.567282\n",
       "25      Tremarctos ornatus  hydrophobic  0.575198\n",
       "26         Ursus maritimus  hydrophobic  0.580475"
      ]
     },
     "execution_count": 66,
     "metadata": {},
     "output_type": "execute_result"
    }
   ],
   "source": [
    "bear_df_copy_melted = pd.melt(bear_df_copy,id_vars=['species'],value_vars = ['charged','polar','hydrophobic'])\n",
    "bear_df_copy_melted"
   ]
  },
  {
   "cell_type": "code",
   "execution_count": 68,
   "metadata": {
    "collapsed": false
   },
   "outputs": [
    {
     "data": {
      "text/plain": [
       "<seaborn.axisgrid.FacetGrid at 0xcdd1160>"
      ]
     },
     "execution_count": 68,
     "metadata": {},
     "output_type": "execute_result"
    },
    {
     "data": {
      "image/png": "[encoded data removed]",
      "text/plain": [
       "<matplotlib.figure.Figure at 0xc7adcf8>"
      ]
     },
     "metadata": {},
     "output_type": "display_data"
    }
   ],
   "source": [
    "#Created a grouped barchart and rotated the x-axis so it is easier to read.\n",
    "fig2 = sns.factorplot(x = 'species', y = 'value', hue = 'variable', size = 6, kind = \"bar\",palette = \"muted\",\n",
    "                     data = bear_df_copy_melted)\n",
    "fig2.set_xticklabels(rotation=60)"
   ]
  },
  {
   "cell_type": "markdown",
   "metadata": {},
   "source": [
    "It shows that the types of amino acids is consistent across the different species. There are no noticable patterns"
   ]
  },
  {
   "cell_type": "markdown",
   "metadata": {},
   "source": [
    "### Question 8"
   ]
  },
  {
   "cell_type": "code",
   "execution_count": 62,
   "metadata": {
    "collapsed": true
   },
   "outputs": [],
   "source": [
    "#Output the data with file name and the seperator.\n",
    "bear_df_copy.to_csv('bear_ctyb_aaProfile.csv',sep = ',')"
   ]
  },
  {
   "cell_type": "markdown",
   "metadata": {},
   "source": [
    "### Bonus question\n",
    "Did not have time to do anything \"cool\" with the data and python (although I did want to), I did figure out how to do melt with panda. Not sure if we covered it."
   ]
  }
 ],
 "metadata": {
  "kernelspec": {
   "display_name": "Python 3",
   "language": "python",
   "name": "python3"
  },
  "language_info": {
   "codemirror_mode": {
    "name": "ipython",
    "version": 3
   },
   "file_extension": ".py",
   "mimetype": "text/x-python",
   "name": "python",
   "nbconvert_exporter": "python",
   "pygments_lexer": "ipython3",
   "version": "3.6.0"
  }
 },
 "nbformat": 4,
 "nbformat_minor": 2
}
